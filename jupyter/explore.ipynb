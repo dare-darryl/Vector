{
 "cells": [
  {
   "cell_type": "markdown",
   "metadata": {},
   "source": [
    "# Imports"
   ]
  },
  {
   "cell_type": "code",
   "execution_count": 2,
   "metadata": {},
   "outputs": [],
   "source": [
    "import anki_vector\n",
    "from anki_vector.util import degrees, distance_mm, speed_mmps, Pose\n",
    "from OpenGL.GL import *\n",
    "import time\n",
    "import math"
   ]
  },
  {
   "cell_type": "markdown",
   "metadata": {},
   "source": [
    "# Connections"
   ]
  },
  {
   "cell_type": "code",
   "execution_count": 3,
   "metadata": {},
   "outputs": [
    {
     "name": "stderr",
     "output_type": "stream",
     "text": [
      "2019-04-27 20:07:30,619 anki_vector.robot.Robot WARNING  No serial number provided. Automatically selecting 00400933\n",
      "2019-04-27 20:07:30,624 anki_vector.robot.Robot WARNING  enable_camera_feed should be True for viewer to render correctly.\n",
      "2019-04-27 20:07:30,633 anki_vector.connection.Connection INFO     Connecting to 10.0.0.43:443 for Vector-D8H6 using C:\\Users\\darrylsw\\.anki_vector\\Vector-D8H6-00400933.cert\n",
      "2019-04-27 20:07:36,891 anki_vector.connection.Connection INFO     control_granted_response {\n",
      "}\n",
      "\n"
     ]
    }
   ],
   "source": [
    "# Create a Robot object\n",
    "robot = anki_vector.Robot(show_viewer=True,\n",
    "                          show_3d_viewer=True,\n",
    "                       enable_nav_map_feed=True)\n",
    "\n",
    "'''\n",
    "robot = anki_vector.Robot(show_viewer=True,\n",
    "                       show_3d_viewer=True,\n",
    "                       enable_camera_feed=True,\n",
    "                       enable_face_detection=True,\n",
    "                       enable_custom_object_detection=True,\n",
    "                       enable_nav_map_feed=True)\n",
    "'''\n",
    "# Connect to the Robot\n",
    "robot.connect()"
   ]
  },
  {
   "cell_type": "code",
   "execution_count": 4,
   "metadata": {},
   "outputs": [],
   "source": [
    "robot.disconnect()"
   ]
  },
  {
   "cell_type": "markdown",
   "metadata": {},
   "source": [
    "# Constants"
   ]
  },
  {
   "cell_type": "code",
   "execution_count": null,
   "metadata": {},
   "outputs": [],
   "source": [
    "PROXIMITY_SCAN_DISTANCE_THRESHOLD_MM = 300\n",
    "PROXIMITY_SCAN_OPEN_NODE_DISTANCE_MM = 230\n",
    "PROXIMITY_SCAN_SAMPLE_FREQUENCY_HZ = 15.0\n",
    "ROXIMITY_SCAN_TURN_DURATION_S = 10.0\n",
    "PROXIMITY_SCAN_BIND_THRESHOLD_MM = 30.0\n",
    "PROXIMITY_EXPLORATION_SHUTDOWN_DELAY_S = 8.0"
   ]
  },
  {
   "cell_type": "markdown",
   "metadata": {},
   "source": [
    "# Functions"
   ]
  },
  {
   "cell_type": "code",
   "execution_count": 135,
   "metadata": {},
   "outputs": [],
   "source": [
    "class SearchNode():\n",
    "    def __init__(self, x, y):\n",
    "        self.x = x\n",
    "        self.y = y\n",
    "    \n",
    "    def get_x(self):\n",
    "        return self.x\n",
    "    \n",
    "    def get_y(self):\n",
    "        return self.y\n",
    "\n",
    "def scan(robot: anki_vector.robot.Robot):\n",
    "    print('scanning')\n",
    "    time_scan = 10.0\n",
    "    robot.behavior.turn_in_place(angle=degrees(360.0), speed=degrees(360.0 / time_scan))\n",
    "    \n",
    "def get_surrounding_nodes(robot: anki_vector.robot.Robot):\n",
    "    print('get surrounding nodes')\n",
    "    search_point = 10\n",
    "    distance = 150\n",
    "    angle_incre = 6.283 / search_point\n",
    "    \n",
    "    pos = robot.pose.position\n",
    "    ang = robot.pose.rotation.angle_z.radians\n",
    "    \n",
    "    surrounding = []\n",
    "    \n",
    "    print('current:', pos)\n",
    "    for i in range(0, search_point):\n",
    "        pot_x = pos.x + distance * math.sin(ang)\n",
    "        pot_y = pos.y + distance * math.cos(ang)\n",
    "        explore_loc = SearchNode(pot_x, pot_y)\n",
    "        surrounding.append(explore_loc)\n",
    "        ang += angle_incre\n",
    "        \n",
    "    surrounding.reverse()\n",
    "        \n",
    "    return surrounding # So the frontiest node gets to the top of the stack\n",
    "    \n",
    "def get_explorable_nodes(robot: anki_vector.robot.Robot, explorable, explored):\n",
    "    candidate_nodes = get_surrounding_nodes(robot)\n",
    "    curr_map = robot.nav_map.latest_nav_map\n",
    "    \n",
    "    # clear explorables from explored\n",
    "    explorable[:] = [candidate for candidate in explorable if not node_explored(candidate, explored, robot)]\n",
    "    \n",
    "    for node in candidate_nodes:\n",
    "        if curr_map.get_content(node.x, node.y) == 1 or curr_map.get_content(node.x, node.y) == 2:\n",
    "            if node_fits_robot(node, robot) and not node_explored(node, explored, robot):\n",
    "                explorable.append(node)\n",
    "                \n",
    "    return explorable\n",
    "            \n",
    "\n",
    "def node_fits_robot(node: SearchNode, robot: anki_vector.robot.Robot):\n",
    "    curr_map = robot.nav_map.latest_nav_map\n",
    "    robot_size = 50\n",
    "    \n",
    "    # Check the four directions of the robot\n",
    "    eval_x = node.x + robot_size\n",
    "    eval_y = node.y + robot_size\n",
    "    if curr_map.get_content(eval_x, eval_y) != 1 and curr_map.get_content(eval_x, eval_y) != 2:\n",
    "        return False\n",
    "    \n",
    "    eval_x = node.x - robot_size\n",
    "    eval_y = node.y + robot_size\n",
    "    if curr_map.get_content(eval_x, eval_y) != 1 and curr_map.get_content(eval_x, eval_y) != 2:\n",
    "        return False\n",
    "    \n",
    "    eval_x = node.x + robot_size\n",
    "    eval_y = node.y - robot_size\n",
    "    if curr_map.get_content(eval_x, eval_y) != 1 and curr_map.get_content(eval_x, eval_y) != 2:\n",
    "        return False\n",
    "    \n",
    "    eval_x = node.x - robot_size\n",
    "    eval_y = node.y - robot_size\n",
    "    if curr_map.get_content(eval_x, eval_y) != 1 and curr_map.get_content(eval_x, eval_y) != 2:\n",
    "        return False\n",
    "    \n",
    "    return True\n",
    "\n",
    "def node_explored(node: SearchNode, explored_nodes, robot: anki_vector.robot.Robot):\n",
    "    radius = 150\n",
    "    curr_map = robot.nav_map.latest_nav_map\n",
    "    \n",
    "    for explored in explored_nodes:\n",
    "        distance = math.sqrt((explored.x - node.x) ** 2 + (explored.y - node.y) ** 2)\n",
    "        if distance < radius:\n",
    "            if curr_map.get_content(node.x, node.y) == 1 or curr_map.get_content(node.x, node.y) == 2:\n",
    "                return True\n",
    "    \n",
    "    return False\n",
    "\n",
    "def get_angle_from_to(source: SearchNode, dest: SearchNode):\n",
    "    x = dest.x - source.x\n",
    "    y = dest.y - source.y\n",
    "    return math.atan2(y , x)\n",
    "\n",
    "def drive_to(dest: SearchNode, robot: anki_vector.robot.Robot):\n",
    "    posi = robot.pose.position\n",
    "    angle = get_angle_from_to(SearchNode(posi.x, posi.y), dest)\n",
    "    \n",
    "    pose = Pose(x=dest.x, y=dest.y, z=0, angle_z=anki_vector.util.Angle(radians=angle))\n",
    "    robot.behavior.go_to_pose(pose)\n",
    "    \n",
    "    \n",
    "def clear_explorables(explorable, explored):\n",
    "    print('placeholder')\n",
    "    "
   ]
  },
  {
   "cell_type": "code",
   "execution_count": 111,
   "metadata": {},
   "outputs": [
    {
     "name": "stdout",
     "output_type": "stream",
     "text": [
      "driving off\n",
      "setting lift\n"
     ]
    },
    {
     "data": {
      "text/plain": [
       "status {\n",
       "  code: RESPONSE_RECEIVED\n",
       "}\n",
       "result {\n",
       "}"
      ]
     },
     "execution_count": 111,
     "metadata": {},
     "output_type": "execute_result"
    }
   ],
   "source": [
    "# Begin\n",
    "robot.nav_map.init_nav_map_feed(frequency=0.5)\n",
    "print('driving off')\n",
    "robot.behavior.drive_off_charger()\n",
    "print('setting lift')\n",
    "robot.behavior.set_lift_height(0.0)"
   ]
  },
  {
   "cell_type": "code",
   "execution_count": null,
   "metadata": {},
   "outputs": [],
   "source": [
    "#robot.pose.rotation.angle_z.degrees\n",
    "robot.pose.rotation.angle_z.radians"
   ]
  },
  {
   "cell_type": "code",
   "execution_count": 133,
   "metadata": {
    "scrolled": true
   },
   "outputs": [
    {
     "name": "stdout",
     "output_type": "stream",
     "text": [
      "scanning\n"
     ]
    }
   ],
   "source": [
    "# End\n",
    "scan(robot)"
   ]
  },
  {
   "cell_type": "code",
   "execution_count": null,
   "metadata": {},
   "outputs": [],
   "source": [
    "robot.pose.position"
   ]
  },
  {
   "cell_type": "code",
   "execution_count": null,
   "metadata": {},
   "outputs": [],
   "source": [
    "position = robot.pose.position\n",
    "pose = Pose(x=position.x, y=position.y, z=position.z, angle_z=anki_vector.util.Angle(radians=700.10665441777373975))\n",
    "robot.behavior.go_to_pose(pose)"
   ]
  },
  {
   "cell_type": "code",
   "execution_count": 113,
   "metadata": {
    "scrolled": false
   },
   "outputs": [
    {
     "name": "stdout",
     "output_type": "stream",
     "text": [
      "get surrounding nodes\n",
      "current: <Position x: 124.42 y: 6.23 z: 0.00>\n",
      "( 260.10989071045907 , -57.71027137668853 )\n",
      "( 271.7805207133544 , 34.254621441118196 )\n"
     ]
    }
   ],
   "source": [
    "posi = robot.pose.position\n",
    "explored = []\n",
    "explorable = []\n",
    "explored.append(SearchNode(posi.x, posi.y))\n",
    "explorable = get_explorable_nodes(robot, explorable, explored)\n",
    "print_exp(explorable)"
   ]
  },
  {
   "cell_type": "code",
   "execution_count": null,
   "metadata": {},
   "outputs": [],
   "source": []
  },
  {
   "cell_type": "code",
   "execution_count": 121,
   "metadata": {
    "scrolled": true
   },
   "outputs": [
    {
     "name": "stdout",
     "output_type": "stream",
     "text": [
      "get surrounding nodes\n",
      "current: <Position x: 421.52 y: 59.16 z: 0.00>\n",
      "( 352.06702757829055 , 192.1076631829535 )\n",
      "( 399.5516977660236 , -89.22667558345964 )\n",
      "( 490.96197445875083 , -73.80245986225634 )\n",
      "( 555.8495421064243 , -7.595597072785864 )\n",
      "( 569.4309688184246 , 84.10658373073557 )\n",
      "( 526.5189070627569 , 166.2789639538551 )\n",
      "( 443.5033711112195 , 207.53627732171975 )\n"
     ]
    }
   ],
   "source": [
    "posi = robot.pose.position\n",
    "explored.append(SearchNode(posi.x, posi.y))\n",
    "\n",
    "explorable = get_explorable_nodes(robot, explorable, explored)\n",
    "\n",
    "print_exp(explorable)"
   ]
  },
  {
   "cell_type": "code",
   "execution_count": 71,
   "metadata": {},
   "outputs": [],
   "source": [
    "def print_exp(explorable):\n",
    "    for e in explorable:\n",
    "        print('(', e.x,',', e.y, ')')"
   ]
  },
  {
   "cell_type": "code",
   "execution_count": 131,
   "metadata": {
    "scrolled": true
   },
   "outputs": [],
   "source": [
    "drive_to(explorable[5], robot)\n"
   ]
  },
  {
   "cell_type": "code",
   "execution_count": 132,
   "metadata": {},
   "outputs": [],
   "source": [
    "drive_to(explorable[2], robot)"
   ]
  }
 ],
 "metadata": {
  "kernelspec": {
   "display_name": "Python 3",
   "language": "python",
   "name": "python3"
  },
  "language_info": {
   "codemirror_mode": {
    "name": "ipython",
    "version": 3
   },
   "file_extension": ".py",
   "mimetype": "text/x-python",
   "name": "python",
   "nbconvert_exporter": "python",
   "pygments_lexer": "ipython3",
   "version": "3.6.8"
  }
 },
 "nbformat": 4,
 "nbformat_minor": 2
}
