{
 "cells": [
  {
   "cell_type": "code",
   "execution_count": 43,
   "metadata": {},
   "outputs": [
    {
     "name": "stderr",
     "output_type": "stream",
     "text": [
      "2019-04-15 23:21:40,228 anki_vector.robot.Robot WARNING  No serial number provided. Automatically selecting 00400933\n",
      "2019-04-15 23:21:40,230 anki_vector.robot.Robot WARNING  enable_camera_feed should be True for viewer to render correctly.\n",
      "2019-04-15 23:21:40,237 anki_vector.connection.Connection INFO     Connecting to 10.0.0.43:443 for Vector-D8H6 using C:\\Users\\darrylsw\\.anki_vector\\Vector-D8H6-00400933.cert\n",
      "2019-04-15 23:21:44,734 anki_vector.connection.Connection INFO     control_granted_response {\n",
      "}\n",
      "\n"
     ]
    }
   ],
   "source": [
    "import anki_vector\n",
    "from anki_vector.util import degrees, distance_mm, speed_mmps, Pose\n",
    "from OpenGL.GL import *\n",
    "import time\n",
    "\n",
    "\n",
    "# Create a Robot object\n",
    "robot = anki_vector.Robot(show_viewer=True,\n",
    "                          show_3d_viewer=True,\n",
    "                       enable_nav_map_feed=True)\n",
    "\n",
    "'''\n",
    "robot = anki_vector.Robot(show_viewer=True,\n",
    "                       show_3d_viewer=True,\n",
    "                       enable_camera_feed=True,\n",
    "                       enable_face_detection=True,\n",
    "                       enable_custom_object_detection=True,\n",
    "                       enable_nav_map_feed=True)\n",
    "'''\n",
    "# Connect to the Robot\n",
    "robot.connect()"
   ]
  },
  {
   "cell_type": "code",
   "execution_count": 23,
   "metadata": {},
   "outputs": [
    {
     "name": "stderr",
     "output_type": "stream",
     "text": [
      "2019-04-15 19:59:10,393 anki_vector.connection.Connection INFO     control_lost_event {\n",
      "}\n",
      "\n",
      "2019-04-15 19:59:10,406 anki_vector.connection.Connection INFO     control_lost_event {\n",
      "}\n",
      "\n",
      "2019-04-15 19:59:10,407 anki_vector.connection.Connection INFO     control_lost_event {\n",
      "}\n",
      "\n"
     ]
    }
   ],
   "source": [
    "robot.disconnect()"
   ]
  },
  {
   "cell_type": "code",
   "execution_count": 25,
   "metadata": {},
   "outputs": [
    {
     "data": {
      "text/plain": [
       "status {\n",
       "  code: RESPONSE_RECEIVED\n",
       "}\n",
       "result: BEHAVIOR_COMPLETE_STATE"
      ]
     },
     "execution_count": 25,
     "metadata": {},
     "output_type": "execute_result"
    }
   ],
   "source": [
    "robot.behavior.drive_off_charger()"
   ]
  },
  {
   "cell_type": "code",
   "execution_count": 12,
   "metadata": {
    "scrolled": true
   },
   "outputs": [
    {
     "data": {
      "text/plain": [
       "status {\n",
       "  code: RESPONSE_RECEIVED\n",
       "}\n",
       "result {\n",
       "}"
      ]
     },
     "execution_count": 12,
     "metadata": {},
     "output_type": "execute_result"
    }
   ],
   "source": [
    "robot.behavior.drive_straight(distance_mm(10), speed_mmps(50))"
   ]
  },
  {
   "cell_type": "code",
   "execution_count": 27,
   "metadata": {
    "scrolled": true
   },
   "outputs": [
    {
     "data": {
      "text/plain": [
       "status {\n",
       "  code: RESPONSE_RECEIVED\n",
       "}\n",
       "result: BEHAVIOR_COMPLETE_STATE"
      ]
     },
     "execution_count": 27,
     "metadata": {},
     "output_type": "execute_result"
    }
   ],
   "source": [
    "robot.behavior.drive_on_charger()"
   ]
  },
  {
   "cell_type": "markdown",
   "metadata": {},
   "source": [
    "## Nav Map"
   ]
  },
  {
   "cell_type": "code",
   "execution_count": 125,
   "metadata": {},
   "outputs": [],
   "source": [
    "robot.nav_map.init_nav_map_feed(frequency=0.5)"
   ]
  },
  {
   "cell_type": "code",
   "execution_count": 126,
   "metadata": {},
   "outputs": [],
   "source": [
    "latest_nav_map = robot.nav_map.latest_nav_map"
   ]
  },
  {
   "cell_type": "code",
   "execution_count": 70,
   "metadata": {},
   "outputs": [
    {
     "name": "stdout",
     "output_type": "stream",
     "text": [
      "64.0\n",
      "-64.0\n",
      "0.0\n"
     ]
    }
   ],
   "source": [
    "type(latest_nav_map.center.x)\n",
    "print(latest_nav_map.center.x)\n",
    "print(latest_nav_map.center.y)\n",
    "print(latest_nav_map.center.z)"
   ]
  },
  {
   "cell_type": "code",
   "execution_count": 130,
   "metadata": {},
   "outputs": [
    {
     "data": {
      "text/plain": [
       "2"
      ]
     },
     "execution_count": 130,
     "metadata": {},
     "output_type": "execute_result"
    }
   ],
   "source": [
    "content = latest_nav_map.get_content(300, -51)\n",
    "content # Content output actually represents the type of content that it feels is there"
   ]
  },
  {
   "cell_type": "code",
   "execution_count": 127,
   "metadata": {},
   "outputs": [],
   "source": [
    "# Get Node\n",
    "node = latest_nav_map.get_node(300, -220)\n",
    "node.content"
   ]
  },
  {
   "cell_type": "code",
   "execution_count": 122,
   "metadata": {},
   "outputs": [
    {
     "data": {
      "text/plain": [
       "<Position x: 254.29 y: -61.79 z: -0.04>"
      ]
     },
     "execution_count": 122,
     "metadata": {},
     "output_type": "execute_result"
    },
    {
     "name": "stderr",
     "output_type": "stream",
     "text": [
      "2019-04-15 23:55:50,131 anki_vector.connection.Connection INFO     control_granted_response {\n",
      "}\n",
      "\n"
     ]
    }
   ],
   "source": [
    "# Current Location\n",
    "robot.pose.position"
   ]
  },
  {
   "cell_type": "markdown",
   "metadata": {},
   "source": [
    "## Movements"
   ]
  },
  {
   "cell_type": "code",
   "execution_count": 20,
   "metadata": {},
   "outputs": [
    {
     "data": {
      "text/plain": [
       "status {\n",
       "  code: RESPONSE_RECEIVED\n",
       "}\n",
       "result {\n",
       "}"
      ]
     },
     "execution_count": 20,
     "metadata": {},
     "output_type": "execute_result"
    },
    {
     "name": "stderr",
     "output_type": "stream",
     "text": [
      "2019-04-15 19:55:57,834 anki_vector.connection.Connection INFO     control_lost_event {\n",
      "}\n",
      "\n",
      "2019-04-15 19:55:57,851 anki_vector.connection.Connection INFO     control_lost_event {\n",
      "}\n",
      "\n",
      "2019-04-15 19:55:57,853 anki_vector.connection.Connection INFO     control_lost_event {\n",
      "}\n",
      "\n",
      "2019-04-15 19:55:57,864 anki_vector.connection.Connection INFO     control_lost_event {\n",
      "}\n",
      "\n",
      "2019-04-15 19:55:59,704 anki_vector.util.MotorComponent INFO     Delaying set_wheel_motors until behavior control is granted\n",
      "2019-04-15 19:56:00,248 anki_vector.util.MotorComponent INFO     Delaying set_wheel_motors until behavior control is granted\n",
      "2019-04-15 19:56:01,940 anki_vector.util.MotorComponent INFO     Delaying set_wheel_motors until behavior control is granted\n",
      "2019-04-15 19:56:02,335 anki_vector.util.MotorComponent INFO     Delaying set_wheel_motors until behavior control is granted\n",
      "2019-04-15 19:56:02,958 anki_vector.util.MotorComponent INFO     Delaying set_wheel_motors until behavior control is granted\n",
      "2019-04-15 19:56:03,613 anki_vector.util.MotorComponent INFO     Delaying set_wheel_motors until behavior control is granted\n",
      "2019-04-15 19:56:03,998 anki_vector.util.MotorComponent INFO     Delaying set_wheel_motors until behavior control is granted\n",
      "2019-04-15 19:56:04,239 anki_vector.connection.Connection INFO     control_granted_response {\n",
      "}\n",
      "\n",
      "2019-04-15 19:56:04,242 anki_vector.connection.Connection INFO     control_granted_response {\n",
      "}\n",
      "\n",
      "2019-04-15 19:56:04,243 anki_vector.connection.Connection INFO     control_granted_response {\n",
      "}\n",
      "\n",
      "2019-04-15 19:56:04,244 anki_vector.connection.Connection INFO     control_granted_response {\n",
      "}\n",
      "\n"
     ]
    }
   ],
   "source": [
    "robot.behavior.turn_in_place(degrees(-50))"
   ]
  },
  {
   "cell_type": "code",
   "execution_count": 10,
   "metadata": {},
   "outputs": [
    {
     "data": {
      "text/plain": [
       "status {\n",
       "  code: RESPONSE_RECEIVED\n",
       "}\n",
       "result {\n",
       "}"
      ]
     },
     "execution_count": 10,
     "metadata": {},
     "output_type": "execute_result"
    }
   ],
   "source": [
    "robot.behavior.drive_straight(distance_mm(300), speed_mmps(500))"
   ]
  },
  {
   "cell_type": "code",
   "execution_count": 114,
   "metadata": {},
   "outputs": [
    {
     "data": {
      "text/plain": [
       "status {\n",
       "  code: RESPONSE_RECEIVED\n",
       "}\n",
       "result {\n",
       "}"
      ]
     },
     "execution_count": 114,
     "metadata": {},
     "output_type": "execute_result"
    }
   ],
   "source": [
    "# go_to_pose\n",
    "# https://developer.anki.com/vector/docs/generated/anki_vector.behavior.html\n",
    "pose = Pose(x=300, y=-51, z=0, angle_z=anki_vector.util.Angle(degrees=50))\n",
    "robot.behavior.go_to_pose(pose)"
   ]
  },
  {
   "cell_type": "markdown",
   "metadata": {},
   "source": [
    "## World"
   ]
  },
  {
   "cell_type": "code",
   "execution_count": 102,
   "metadata": {},
   "outputs": [
    {
     "name": "stdout",
     "output_type": "stream",
     "text": [
      "<Charger pose=<Pose: <Position x: 43.14 y: -52.17 z: 3.23> <Quaternion q0: 0.11 q1: 0.00 q2: -0.00 q3: 0.99 <Angle Radians: 2.93 Degrees: 167.78>> <Origin Id: 1>> is_visible=False>\n"
     ]
    }
   ],
   "source": [
    "for obj in robot.world.all_objects:\n",
    "    print(obj)"
   ]
  },
  {
   "cell_type": "code",
   "execution_count": null,
   "metadata": {},
   "outputs": [],
   "source": []
  }
 ],
 "metadata": {
  "kernelspec": {
   "display_name": "Python 3",
   "language": "python",
   "name": "python3"
  },
  "language_info": {
   "codemirror_mode": {
    "name": "ipython",
    "version": 3
   },
   "file_extension": ".py",
   "mimetype": "text/x-python",
   "name": "python",
   "nbconvert_exporter": "python",
   "pygments_lexer": "ipython3",
   "version": "3.6.8"
  }
 },
 "nbformat": 4,
 "nbformat_minor": 2
}
