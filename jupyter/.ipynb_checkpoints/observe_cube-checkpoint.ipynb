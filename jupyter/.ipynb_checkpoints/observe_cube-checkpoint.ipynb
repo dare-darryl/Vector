{
 "cells": [
  {
   "cell_type": "code",
   "execution_count": 11,
   "metadata": {},
   "outputs": [],
   "source": [
    "import anki_vector\n",
    "from anki_vector.util import degrees, distance_mm, speed_mmps, Pose\n",
    "from anki_vector.objects import CustomObjectMarkers, CustomObjectTypes, LightCube\n",
    "from OpenGL.GL import *\n",
    "import time\n",
    "import math"
   ]
  },
  {
   "cell_type": "code",
   "execution_count": null,
   "metadata": {
    "scrolled": true
   },
   "outputs": [],
   "source": [
    "# Create a Robot object\n",
    "robot = anki_vector.Robot(show_viewer=True,\n",
    "                          show_3d_viewer=True,\n",
    "                       enable_nav_map_feed=True)\n",
    "\n",
    "'''\n",
    "robot = anki_vector.Robot(show_viewer=True,\n",
    "                       show_3d_viewer=True,\n",
    "                       enable_camera_feed=True,\n",
    "                       enable_face_detection=True,\n",
    "                       enable_custom_object_detection=True,\n",
    "                       enable_nav_map_feed=True)\n",
    "'''\n",
    "# Connect to the Robot\n",
    "robot.connect()"
   ]
  },
  {
   "cell_type": "code",
   "execution_count": null,
   "metadata": {},
   "outputs": [],
   "source": [
    "robot.disconnect()"
   ]
  },
  {
   "cell_type": "code",
   "execution_count": 2,
   "metadata": {},
   "outputs": [],
   "source": [
    "def handle_object_appeared(event_type, event):\n",
    "    # This will be called whenever an EvtObjectAppeared is dispatched -\n",
    "    # whenever an Object comes into view.\n",
    "    print(f\"--------- Vector started seeing an object --------- \\n{event.obj}\")\n",
    "    if(issubclass(event.obj, LightCube)):\n",
    "        print('CUBE FOUND!!!!')\n",
    "\n",
    "\n",
    "def handle_object_disappeared(event_type, event):\n",
    "    # This will be called whenever an EvtObjectDisappeared is dispatched -\n",
    "    # whenever an Object goes out of view.\n",
    "    print(f\"--------- Vector stopped seeing an object --------- \\n{event.obj}\")"
   ]
  },
  {
   "cell_type": "code",
   "execution_count": 7,
   "metadata": {},
   "outputs": [],
   "source": [
    "def sense():\n",
    "    with anki_vector.Robot(show_viewer=True,\n",
    "                           show_3d_viewer=True,\n",
    "                           enable_camera_feed=True,\n",
    "                           enable_custom_object_detection=True,\n",
    "                           enable_nav_map_feed=True) as robot:\n",
    "        # Add event handlers for whenever Vector sees a new object\n",
    "        robot.events.subscribe(handle_object_appeared, anki_vector.events.Events.object_appeared)\n",
    "        robot.events.subscribe(handle_object_disappeared, anki_vector.events.Events.object_disappeared)\n",
    "\n",
    "        robot.world.connect_cube()\n",
    "        if robot.world.connected_light_cube:\n",
    "            cube = robot.world.connected_light_cube\n",
    "        print(\"\\n\\nShow a marker specified in the Python script to Vector and you will see the related 3d objects\\n\"\n",
    "              \"display in Vector's 3d_viewer window. You will also see messages print every time a custom object\\n\"\n",
    "              \"enters or exits Vector's view. Markers can be found from the docs under CustomObjectMarkers.\\n\\n\")\n",
    "\n",
    "\n",
    "        while True:\n",
    "            time.sleep(0.5)\n"
   ]
  },
  {
   "cell_type": "code",
   "execution_count": 8,
   "metadata": {},
   "outputs": [
    {
     "name": "stderr",
     "output_type": "stream",
     "text": [
      "2019-04-27 20:32:50,501 anki_vector.robot.Robot WARNING  No serial number provided. Automatically selecting 00400933\n",
      "2019-04-27 20:32:50,507 anki_vector.connection.Connection INFO     Connecting to 10.0.0.43:443 for Vector-D8H6 using C:\\Users\\darrylsw\\.anki_vector\\Vector-D8H6-00400933.cert\n",
      "2019-04-27 20:32:54,468 anki_vector.connection.Connection INFO     control_granted_response {\n",
      "}\n",
      "\n"
     ]
    },
    {
     "name": "stdout",
     "output_type": "stream",
     "text": [
      "--------- Vector stopped seeing an object --------- \n",
      "<Charger pose=<Pose: <Position x: 82.51 y: -310.14 z: 10.85> <Quaternion q0: 0.21 q1: 0.05 q2: 0.01 q3: -0.98 <Angle Radians: -2.73 Degrees: -156.21>> <Origin Id: 8>> is_visible=False>\n",
      "--------- Vector started seeing an object --------- \n",
      "<Charger pose=<Pose: <Position x: 82.51 y: -310.14 z: 10.85> <Quaternion q0: 0.21 q1: 0.05 q2: 0.01 q3: -0.98 <Angle Radians: -2.73 Degrees: -156.21>> <Origin Id: 8>> is_visible=True>\n",
      "\n",
      "\n",
      "Show a marker specified in the Python script to Vector and you will see the related 3d objects\n",
      "display in Vector's 3d_viewer window. You will also see messages print every time a custom object\n",
      "enters or exits Vector's view. Markers can be found from the docs under CustomObjectMarkers.\n",
      "\n",
      "\n",
      "--------- Vector stopped seeing an object --------- \n",
      "<Charger pose=<Pose: <Position x: 82.51 y: -310.14 z: 10.85> <Quaternion q0: 0.21 q1: 0.05 q2: 0.01 q3: -0.98 <Angle Radians: -2.73 Degrees: -156.21>> <Origin Id: 8>> is_visible=False>\n",
      "--------- Vector started seeing an object --------- \n",
      "<Charger pose=<Pose: <Position x: 82.51 y: -310.14 z: 10.85> <Quaternion q0: 0.21 q1: 0.05 q2: 0.01 q3: -0.98 <Angle Radians: -2.73 Degrees: -156.21>> <Origin Id: 8>> is_visible=True>\n",
      "--------- Vector stopped seeing an object --------- \n",
      "<Charger pose=<Pose: <Position x: 82.51 y: -310.14 z: 10.85> <Quaternion q0: 0.21 q1: 0.05 q2: 0.01 q3: -0.98 <Angle Radians: -2.73 Degrees: -156.21>> <Origin Id: 8>> is_visible=False>\n",
      "--------- Vector started seeing an object --------- \n",
      "<Charger pose=<Pose: <Position x: 82.51 y: -310.14 z: 10.85> <Quaternion q0: 0.21 q1: 0.05 q2: 0.01 q3: -0.98 <Angle Radians: -2.73 Degrees: -156.21>> <Origin Id: 8>> is_visible=True>\n",
      "--------- Vector stopped seeing an object --------- \n",
      "<Charger pose=<Pose: <Position x: 82.51 y: -310.14 z: 10.85> <Quaternion q0: 0.21 q1: 0.05 q2: 0.01 q3: -0.98 <Angle Radians: -2.73 Degrees: -156.21>> <Origin Id: 8>> is_visible=False>\n",
      "--------- Vector started seeing an object --------- \n",
      "<Charger pose=<Pose: <Position x: 82.51 y: -310.14 z: 10.85> <Quaternion q0: 0.21 q1: 0.05 q2: 0.01 q3: -0.98 <Angle Radians: -2.73 Degrees: -156.21>> <Origin Id: 8>> is_visible=True>\n",
      "--------- Vector stopped seeing an object --------- \n",
      "<Charger pose=<Pose: <Position x: 82.52 y: -309.03 z: 6.53> <Quaternion q0: 0.21 q1: 0.00 q2: 0.00 q3: -0.98 <Angle Radians: -2.72 Degrees: -155.64>> <Origin Id: 8>> is_visible=False>\n",
      "--------- Vector started seeing an object --------- \n",
      "<Charger pose=<Pose: <Position x: 82.52 y: -309.03 z: 6.53> <Quaternion q0: 0.21 q1: 0.00 q2: 0.00 q3: -0.98 <Angle Radians: -2.72 Degrees: -155.64>> <Origin Id: 8>> is_visible=True>\n",
      "--------- Vector stopped seeing an object --------- \n",
      "<Charger pose=<Pose: <Position x: 82.16 y: -310.02 z: 3.12> <Quaternion q0: 0.21 q1: 0.00 q2: 0.00 q3: -0.98 <Angle Radians: -2.72 Degrees: -156.12>> <Origin Id: 8>> is_visible=False>\n",
      "--------- Vector started seeing an object --------- \n",
      "<LightCube object_id=1 pose=<Pose: <Position x: 244.16 y: -128.27 z: 53.51> <Quaternion q0: 0.81 q1: 0.06 q2: -0.04 q3: -0.58 <Angle Radians: -1.23 Degrees: -70.51>> <Origin Id: 8>> is_visible=True>\n",
      "--------- Vector stopped seeing an object --------- \n",
      "<LightCube object_id=1 pose=<Pose: <Position x: 244.16 y: -128.27 z: 53.51> <Quaternion q0: 0.81 q1: 0.06 q2: -0.04 q3: -0.58 <Angle Radians: -1.23 Degrees: -70.51>> <Origin Id: 8>> is_visible=False>\n",
      "--------- Vector started seeing an object --------- \n",
      "<LightCube object_id=1 pose=<Pose: <Position x: 244.16 y: -128.27 z: 53.51> <Quaternion q0: 0.81 q1: 0.06 q2: -0.04 q3: -0.58 <Angle Radians: -1.23 Degrees: -70.51>> <Origin Id: 8>> is_visible=True>\n",
      "--------- Vector stopped seeing an object --------- \n",
      "<LightCube object_id=1 pose=<Pose: <Position x: 244.16 y: -128.27 z: 53.51> <Quaternion q0: 0.81 q1: 0.06 q2: -0.04 q3: -0.58 <Angle Radians: -1.23 Degrees: -70.51>> <Origin Id: 8>> is_visible=False>\n",
      "--------- Vector started seeing an object --------- \n",
      "<LightCube object_id=1 pose=<Pose: <Position x: 244.16 y: -128.27 z: 53.51> <Quaternion q0: 0.81 q1: 0.06 q2: -0.04 q3: -0.58 <Angle Radians: -1.23 Degrees: -70.51>> <Origin Id: 8>> is_visible=True>\n",
      "--------- Vector stopped seeing an object --------- \n",
      "<LightCube object_id=1 pose=<Pose: <Position x: 241.41 y: -128.86 z: 55.62> <Quaternion q0: 0.81 q1: 0.07 q2: -0.05 q3: -0.57 <Angle Radians: -1.23 Degrees: -70.45>> <Origin Id: 8>> is_visible=False>\n"
     ]
    },
    {
     "name": "stderr",
     "output_type": "stream",
     "text": [
      "Traceback (most recent call last):\n",
      "  File \"C:\\ProgramData\\Anaconda3\\lib\\multiprocessing\\queues.py\", line 236, in _feed\n",
      "    send_bytes(obj)\n",
      "  File \"C:\\ProgramData\\Anaconda3\\lib\\multiprocessing\\connection.py\", line 200, in send_bytes\n",
      "    self._send_bytes(m[offset:offset + size])\n",
      "  File \"C:\\ProgramData\\Anaconda3\\lib\\multiprocessing\\connection.py\", line 280, in _send_bytes\n",
      "    ov, err = _winapi.WriteFile(self._handle, buf, overlapped=True)\n",
      "BrokenPipeError: [WinError 232] The pipe is being closed\n"
     ]
    },
    {
     "ename": "KeyboardInterrupt",
     "evalue": "",
     "output_type": "error",
     "traceback": [
      "\u001b[1;31m---------------------------------------------------------------------------\u001b[0m",
      "\u001b[1;31mKeyboardInterrupt\u001b[0m                         Traceback (most recent call last)",
      "\u001b[1;32m<ipython-input-7-a559900c6acc>\u001b[0m in \u001b[0;36msense\u001b[1;34m()\u001b[0m\n\u001b[0;32m     19\u001b[0m         \u001b[1;32mwhile\u001b[0m \u001b[1;32mTrue\u001b[0m\u001b[1;33m:\u001b[0m\u001b[1;33m\u001b[0m\u001b[1;33m\u001b[0m\u001b[0m\n\u001b[1;32m---> 20\u001b[1;33m             \u001b[0mtime\u001b[0m\u001b[1;33m.\u001b[0m\u001b[0msleep\u001b[0m\u001b[1;33m(\u001b[0m\u001b[1;36m0.5\u001b[0m\u001b[1;33m)\u001b[0m\u001b[1;33m\u001b[0m\u001b[1;33m\u001b[0m\u001b[0m\n\u001b[0m",
      "\u001b[1;31mKeyboardInterrupt\u001b[0m: ",
      "\nDuring handling of the above exception, another exception occurred:\n",
      "\u001b[1;31mKeyboardInterrupt\u001b[0m                         Traceback (most recent call last)",
      "\u001b[1;32m<ipython-input-8-21719e95a6b3>\u001b[0m in \u001b[0;36m<module>\u001b[1;34m\u001b[0m\n\u001b[1;32m----> 1\u001b[1;33m \u001b[0msense\u001b[0m\u001b[1;33m(\u001b[0m\u001b[1;33m)\u001b[0m\u001b[1;33m\u001b[0m\u001b[1;33m\u001b[0m\u001b[0m\n\u001b[0m",
      "\u001b[1;32m<ipython-input-7-a559900c6acc>\u001b[0m in \u001b[0;36msense\u001b[1;34m()\u001b[0m\n\u001b[0;32m     18\u001b[0m \u001b[1;33m\u001b[0m\u001b[0m\n\u001b[0;32m     19\u001b[0m         \u001b[1;32mwhile\u001b[0m \u001b[1;32mTrue\u001b[0m\u001b[1;33m:\u001b[0m\u001b[1;33m\u001b[0m\u001b[1;33m\u001b[0m\u001b[0m\n\u001b[1;32m---> 20\u001b[1;33m             \u001b[0mtime\u001b[0m\u001b[1;33m.\u001b[0m\u001b[0msleep\u001b[0m\u001b[1;33m(\u001b[0m\u001b[1;36m0.5\u001b[0m\u001b[1;33m)\u001b[0m\u001b[1;33m\u001b[0m\u001b[1;33m\u001b[0m\u001b[0m\n\u001b[0m",
      "\u001b[1;32m~\\AppData\\Roaming\\Python\\Python36\\site-packages\\anki_vector\\robot.py\u001b[0m in \u001b[0;36m__exit__\u001b[1;34m(self, exc_type, exc_val, exc_tb)\u001b[0m\n\u001b[0;32m    770\u001b[0m \u001b[1;33m\u001b[0m\u001b[0m\n\u001b[0;32m    771\u001b[0m     \u001b[1;32mdef\u001b[0m \u001b[0m__exit__\u001b[0m\u001b[1;33m(\u001b[0m\u001b[0mself\u001b[0m\u001b[1;33m,\u001b[0m \u001b[0mexc_type\u001b[0m\u001b[1;33m,\u001b[0m \u001b[0mexc_val\u001b[0m\u001b[1;33m,\u001b[0m \u001b[0mexc_tb\u001b[0m\u001b[1;33m)\u001b[0m\u001b[1;33m:\u001b[0m\u001b[1;33m\u001b[0m\u001b[1;33m\u001b[0m\u001b[0m\n\u001b[1;32m--> 772\u001b[1;33m         \u001b[0mself\u001b[0m\u001b[1;33m.\u001b[0m\u001b[0mdisconnect\u001b[0m\u001b[1;33m(\u001b[0m\u001b[1;33m)\u001b[0m\u001b[1;33m\u001b[0m\u001b[1;33m\u001b[0m\u001b[0m\n\u001b[0m\u001b[0;32m    773\u001b[0m \u001b[1;33m\u001b[0m\u001b[0m\n\u001b[0;32m    774\u001b[0m     \u001b[1;33m@\u001b[0m\u001b[0mconnection\u001b[0m\u001b[1;33m.\u001b[0m\u001b[0mon_connection_thread\u001b[0m\u001b[1;33m(\u001b[0m\u001b[0mrequires_control\u001b[0m\u001b[1;33m=\u001b[0m\u001b[1;32mFalse\u001b[0m\u001b[1;33m)\u001b[0m\u001b[1;33m\u001b[0m\u001b[1;33m\u001b[0m\u001b[0m\n",
      "\u001b[1;32m~\\AppData\\Roaming\\Python\\Python36\\site-packages\\anki_vector\\robot.py\u001b[0m in \u001b[0;36mdisconnect\u001b[1;34m(self)\u001b[0m\n\u001b[0;32m    747\u001b[0m         \u001b[0mself\u001b[0m\u001b[1;33m.\u001b[0m\u001b[0mviewer\u001b[0m\u001b[1;33m.\u001b[0m\u001b[0mstop_video\u001b[0m\u001b[1;33m(\u001b[0m\u001b[1;33m)\u001b[0m\u001b[1;33m\u001b[0m\u001b[1;33m\u001b[0m\u001b[0m\n\u001b[0;32m    748\u001b[0m         \u001b[1;31m# Stop rendering 3d video\u001b[0m\u001b[1;33m\u001b[0m\u001b[1;33m\u001b[0m\u001b[1;33m\u001b[0m\u001b[0m\n\u001b[1;32m--> 749\u001b[1;33m         \u001b[0mself\u001b[0m\u001b[1;33m.\u001b[0m\u001b[0mviewer_3d\u001b[0m\u001b[1;33m.\u001b[0m\u001b[0mclose\u001b[0m\u001b[1;33m(\u001b[0m\u001b[1;33m)\u001b[0m\u001b[1;33m\u001b[0m\u001b[1;33m\u001b[0m\u001b[0m\n\u001b[0m\u001b[0;32m    750\u001b[0m         \u001b[1;31m# Shutdown camera feed\u001b[0m\u001b[1;33m\u001b[0m\u001b[1;33m\u001b[0m\u001b[1;33m\u001b[0m\u001b[0m\n\u001b[0;32m    751\u001b[0m         \u001b[0mself\u001b[0m\u001b[1;33m.\u001b[0m\u001b[0mcamera\u001b[0m\u001b[1;33m.\u001b[0m\u001b[0mclose_camera_feed\u001b[0m\u001b[1;33m(\u001b[0m\u001b[1;33m)\u001b[0m\u001b[1;33m\u001b[0m\u001b[1;33m\u001b[0m\u001b[0m\n",
      "\u001b[1;32m~\\AppData\\Roaming\\Python\\Python36\\site-packages\\anki_vector\\viewer.py\u001b[0m in \u001b[0;36mclose\u001b[1;34m(self)\u001b[0m\n\u001b[0;32m    346\u001b[0m         \u001b[0mself\u001b[0m\u001b[1;33m.\u001b[0m\u001b[0m_world_frame_queue\u001b[0m \u001b[1;33m=\u001b[0m \u001b[1;32mNone\u001b[0m\u001b[1;33m\u001b[0m\u001b[1;33m\u001b[0m\u001b[0m\n\u001b[0;32m    347\u001b[0m         \u001b[1;32mif\u001b[0m \u001b[0mself\u001b[0m\u001b[1;33m.\u001b[0m\u001b[0m_process\u001b[0m\u001b[1;33m:\u001b[0m\u001b[1;33m\u001b[0m\u001b[1;33m\u001b[0m\u001b[0m\n\u001b[1;32m--> 348\u001b[1;33m             \u001b[0mself\u001b[0m\u001b[1;33m.\u001b[0m\u001b[0m_process\u001b[0m\u001b[1;33m.\u001b[0m\u001b[0mjoin\u001b[0m\u001b[1;33m(\u001b[0m\u001b[0mtimeout\u001b[0m\u001b[1;33m=\u001b[0m\u001b[1;36m5\u001b[0m\u001b[1;33m)\u001b[0m\u001b[1;33m\u001b[0m\u001b[1;33m\u001b[0m\u001b[0m\n\u001b[0m\u001b[0;32m    349\u001b[0m             \u001b[1;32mif\u001b[0m \u001b[0mself\u001b[0m\u001b[1;33m.\u001b[0m\u001b[0m_process\u001b[0m\u001b[1;33m.\u001b[0m\u001b[0mis_alive\u001b[0m\u001b[1;33m(\u001b[0m\u001b[1;33m)\u001b[0m\u001b[1;33m:\u001b[0m\u001b[1;33m\u001b[0m\u001b[1;33m\u001b[0m\u001b[0m\n\u001b[0;32m    350\u001b[0m                 \u001b[0mself\u001b[0m\u001b[1;33m.\u001b[0m\u001b[0m_process\u001b[0m\u001b[1;33m.\u001b[0m\u001b[0mterminate\u001b[0m\u001b[1;33m(\u001b[0m\u001b[1;33m)\u001b[0m\u001b[1;33m\u001b[0m\u001b[1;33m\u001b[0m\u001b[0m\n",
      "\u001b[1;32mC:\\ProgramData\\Anaconda3\\lib\\multiprocessing\\process.py\u001b[0m in \u001b[0;36mjoin\u001b[1;34m(self, timeout)\u001b[0m\n\u001b[0;32m    122\u001b[0m         \u001b[1;32massert\u001b[0m \u001b[0mself\u001b[0m\u001b[1;33m.\u001b[0m\u001b[0m_parent_pid\u001b[0m \u001b[1;33m==\u001b[0m \u001b[0mos\u001b[0m\u001b[1;33m.\u001b[0m\u001b[0mgetpid\u001b[0m\u001b[1;33m(\u001b[0m\u001b[1;33m)\u001b[0m\u001b[1;33m,\u001b[0m \u001b[1;34m'can only join a child process'\u001b[0m\u001b[1;33m\u001b[0m\u001b[1;33m\u001b[0m\u001b[0m\n\u001b[0;32m    123\u001b[0m         \u001b[1;32massert\u001b[0m \u001b[0mself\u001b[0m\u001b[1;33m.\u001b[0m\u001b[0m_popen\u001b[0m \u001b[1;32mis\u001b[0m \u001b[1;32mnot\u001b[0m \u001b[1;32mNone\u001b[0m\u001b[1;33m,\u001b[0m \u001b[1;34m'can only join a started process'\u001b[0m\u001b[1;33m\u001b[0m\u001b[1;33m\u001b[0m\u001b[0m\n\u001b[1;32m--> 124\u001b[1;33m         \u001b[0mres\u001b[0m \u001b[1;33m=\u001b[0m \u001b[0mself\u001b[0m\u001b[1;33m.\u001b[0m\u001b[0m_popen\u001b[0m\u001b[1;33m.\u001b[0m\u001b[0mwait\u001b[0m\u001b[1;33m(\u001b[0m\u001b[0mtimeout\u001b[0m\u001b[1;33m)\u001b[0m\u001b[1;33m\u001b[0m\u001b[1;33m\u001b[0m\u001b[0m\n\u001b[0m\u001b[0;32m    125\u001b[0m         \u001b[1;32mif\u001b[0m \u001b[0mres\u001b[0m \u001b[1;32mis\u001b[0m \u001b[1;32mnot\u001b[0m \u001b[1;32mNone\u001b[0m\u001b[1;33m:\u001b[0m\u001b[1;33m\u001b[0m\u001b[1;33m\u001b[0m\u001b[0m\n\u001b[0;32m    126\u001b[0m             \u001b[0m_children\u001b[0m\u001b[1;33m.\u001b[0m\u001b[0mdiscard\u001b[0m\u001b[1;33m(\u001b[0m\u001b[0mself\u001b[0m\u001b[1;33m)\u001b[0m\u001b[1;33m\u001b[0m\u001b[1;33m\u001b[0m\u001b[0m\n",
      "\u001b[1;32mC:\\ProgramData\\Anaconda3\\lib\\multiprocessing\\popen_spawn_win32.py\u001b[0m in \u001b[0;36mwait\u001b[1;34m(self, timeout)\u001b[0m\n\u001b[0;32m     78\u001b[0m                 \u001b[0mmsecs\u001b[0m \u001b[1;33m=\u001b[0m \u001b[0mmax\u001b[0m\u001b[1;33m(\u001b[0m\u001b[1;36m0\u001b[0m\u001b[1;33m,\u001b[0m \u001b[0mint\u001b[0m\u001b[1;33m(\u001b[0m\u001b[0mtimeout\u001b[0m \u001b[1;33m*\u001b[0m \u001b[1;36m1000\u001b[0m \u001b[1;33m+\u001b[0m \u001b[1;36m0.5\u001b[0m\u001b[1;33m)\u001b[0m\u001b[1;33m)\u001b[0m\u001b[1;33m\u001b[0m\u001b[1;33m\u001b[0m\u001b[0m\n\u001b[0;32m     79\u001b[0m \u001b[1;33m\u001b[0m\u001b[0m\n\u001b[1;32m---> 80\u001b[1;33m             \u001b[0mres\u001b[0m \u001b[1;33m=\u001b[0m \u001b[0m_winapi\u001b[0m\u001b[1;33m.\u001b[0m\u001b[0mWaitForSingleObject\u001b[0m\u001b[1;33m(\u001b[0m\u001b[0mint\u001b[0m\u001b[1;33m(\u001b[0m\u001b[0mself\u001b[0m\u001b[1;33m.\u001b[0m\u001b[0m_handle\u001b[0m\u001b[1;33m)\u001b[0m\u001b[1;33m,\u001b[0m \u001b[0mmsecs\u001b[0m\u001b[1;33m)\u001b[0m\u001b[1;33m\u001b[0m\u001b[1;33m\u001b[0m\u001b[0m\n\u001b[0m\u001b[0;32m     81\u001b[0m             \u001b[1;32mif\u001b[0m \u001b[0mres\u001b[0m \u001b[1;33m==\u001b[0m \u001b[0m_winapi\u001b[0m\u001b[1;33m.\u001b[0m\u001b[0mWAIT_OBJECT_0\u001b[0m\u001b[1;33m:\u001b[0m\u001b[1;33m\u001b[0m\u001b[1;33m\u001b[0m\u001b[0m\n\u001b[0;32m     82\u001b[0m                 \u001b[0mcode\u001b[0m \u001b[1;33m=\u001b[0m \u001b[0m_winapi\u001b[0m\u001b[1;33m.\u001b[0m\u001b[0mGetExitCodeProcess\u001b[0m\u001b[1;33m(\u001b[0m\u001b[0mself\u001b[0m\u001b[1;33m.\u001b[0m\u001b[0m_handle\u001b[0m\u001b[1;33m)\u001b[0m\u001b[1;33m\u001b[0m\u001b[1;33m\u001b[0m\u001b[0m\n",
      "\u001b[1;31mKeyboardInterrupt\u001b[0m: "
     ]
    }
   ],
   "source": [
    "sense()"
   ]
  }
 ],
 "metadata": {
  "kernelspec": {
   "display_name": "Python 3",
   "language": "python",
   "name": "python3"
  },
  "language_info": {
   "codemirror_mode": {
    "name": "ipython",
    "version": 3
   },
   "file_extension": ".py",
   "mimetype": "text/x-python",
   "name": "python",
   "nbconvert_exporter": "python",
   "pygments_lexer": "ipython3",
   "version": "3.6.8"
  }
 },
 "nbformat": 4,
 "nbformat_minor": 2
}
